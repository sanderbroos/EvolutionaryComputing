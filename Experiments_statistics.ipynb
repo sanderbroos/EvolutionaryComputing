{
 "cells": [
  {
   "cell_type": "code",
   "execution_count": null,
   "metadata": {},
   "outputs": [],
   "source": [
    "import pickle\n",
    "from deap import tools\n",
    "import numpy as np\n",
    "import matplotlib.pyplot as plt\n",
    "import seaborn as sns\n",
    "import pandas as pd"
   ]
  },
  {
   "cell_type": "code",
   "execution_count": null,
   "metadata": {},
   "outputs": [],
   "source": [
    "enemy_id = 2\n",
    "runs = 10"
   ]
  },
  {
   "cell_type": "code",
   "execution_count": null,
   "metadata": {},
   "outputs": [],
   "source": [
    "logbooks_b = []\n",
    "logbooks_r = []\n",
    "\n",
    "for run in range(runs):\n",
    "    print(run)\n",
    "\n",
    "    with open(f'logBook/biased/enemy_{enemy_id}/logBook_run_{run}.pkl', 'rb') as f:\n",
    "        logBook = pickle.load(f)\n",
    "\n",
    "    logBook = pd.DataFrame.from_dict(logBook)\n",
    "    logBook['run'] = f'{run}'\n",
    "\n",
    "    logbooks_b.extend([logBook])\n",
    "\n",
    "    with open(f'logBook/random/enemy_{enemy_id}/logBook_run_{run}.pkl', 'rb') as f:\n",
    "        logBook = pickle.load(f)\n",
    "\n",
    "    logBook = pd.DataFrame.from_dict(logBook)\n",
    "    logBook['run'] = f'{run}'\n",
    "\n",
    "    logbooks_r.extend([logBook])\n",
    "\n",
    "logbook_biased = pd.concat(logbooks_b)\n",
    "logbook_random = pd.concat(logbooks_r)"
   ]
  },
  {
   "cell_type": "code",
   "execution_count": null,
   "metadata": {},
   "outputs": [],
   "source": [
    "logbook_biased.describe()"
   ]
  },
  {
   "cell_type": "code",
   "execution_count": null,
   "metadata": {},
   "outputs": [],
   "source": [
    "logbook_random.describe()"
   ]
  },
  {
   "cell_type": "code",
   "execution_count": null,
   "metadata": {},
   "outputs": [],
   "source": [
    "plt.rcParams['figure.figsize'] = (8, 6)\n",
    "\n",
    "enemy_1_plot = sns.lineplot(data=logbook_random, x='gen', y='max', errorbar='sd', \\\n",
    "    color='b', label='random_max')\n",
    "enemy_1_plot = sns.lineplot(data=logbook_random, x='gen', y='mean', errorbar='sd', \\\n",
    "    color='b', label='random_mean', dashes=[2,2], err_style='band')\n",
    "enemy_1_plot = sns.lineplot(data=logbook_biased, x='gen', y='max', errorbar='sd', \\\n",
    "    color='r', label='biased_max')\n",
    "enemy_1_plot = sns.lineplot(data=logbook_biased, x='gen', y='mean', errorbar='sd', \\\n",
    "    color='r', label='biased_mean', dashes=[2,2], err_style='band')\n",
    "\n",
    "enemy_1_plot.set_xlabel('Generations', fontsize=20)\n",
    "enemy_1_plot.set_ylabel('fitness value', fontsize=20)\n",
    "enemy_1_plot.axes.set_title(f'Mean of mean/max fitness value for enemy {enemy_id}', fontsize=20)\n",
    "enemy_1_plot.tick_params(labelsize=15)\n",
    "plt.legend(fontsize=20, loc='lower right')\n",
    "\n",
    "fig_1 = enemy_1_plot.get_figure()\n",
    "fig_1.savefig('lineplot_figures/enemy_1_mean.svg', bbox_inches='tight')\n"
   ]
  },
  {
   "cell_type": "code",
   "execution_count": null,
   "metadata": {},
   "outputs": [],
   "source": []
  }
 ],
 "metadata": {
  "kernelspec": {
   "display_name": "Python 3.9.7 64-bit",
   "language": "python",
   "name": "python3"
  },
  "language_info": {
   "codemirror_mode": {
    "name": "ipython",
    "version": 3
   },
   "file_extension": ".py",
   "mimetype": "text/x-python",
   "name": "python",
   "nbconvert_exporter": "python",
   "pygments_lexer": "ipython3",
   "version": "3.9.7"
  },
  "orig_nbformat": 4,
  "vscode": {
   "interpreter": {
    "hash": "61d78b88c669c087ea84009c87f435080b66ea52ffb4eac29e2a7f2a91dfed40"
   }
  }
 },
 "nbformat": 4,
 "nbformat_minor": 2
}
