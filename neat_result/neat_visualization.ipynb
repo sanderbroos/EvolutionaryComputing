{
 "cells": [
  {
   "cell_type": "code",
   "execution_count": 16,
   "outputs": [],
   "source": [
    "import pickle, os\n",
    "import numpy as np\n",
    "from matplotlib import pyplot as plt"
   ],
   "metadata": {
    "collapsed": false,
    "pycharm": {
     "name": "#%%\n"
    }
   }
  },
  {
   "cell_type": "code",
   "execution_count": 17,
   "outputs": [],
   "source": [
    "enemy_group = [1, 2, 5]\n",
    "run_id = 3"
   ],
   "metadata": {
    "collapsed": false,
    "pycharm": {
     "name": "#%%\n"
    }
   }
  },
  {
   "cell_type": "code",
   "execution_count": 18,
   "outputs": [],
   "source": [
    "with open(os.path.join(','.join(str(enemy) for enemy in enemy_group) , f\"run_{run_id}\",'genfitnessv'), 'rb') as f:\n",
    "    genfitnessv = pickle.load(f)\n",
    "with open(os.path.join(','.join(str(enemy) for enemy in enemy_group) , f\"run_{run_id}\",'gengainv'), 'rb') as f:\n",
    "    gengainv = pickle.load(f)"
   ],
   "metadata": {
    "collapsed": false,
    "pycharm": {
     "name": "#%%\n"
    }
   }
  },
  {
   "cell_type": "code",
   "execution_count": 19,
   "outputs": [],
   "source": [
    "def draw_graph_for_run():\n",
    "    fit_averages = [np.mean(gen) for gen in genfitnessv]\n",
    "    fit_max = [max(gen) for gen in genfitnessv]\n",
    "    gain_averages = [np.mean(gen) for gen in gengainv]\n",
    "    gain_max = [max(gen) for gen in gengainv]\n",
    "    plt.plot(fit_averages, 'b', label=\"fitmean\")\n",
    "    plt.plot(fit_max, 'b--', label=\"fitmax\")\n",
    "    plt.title(\"Neat Fitness Results\")\n",
    "    plt.xlabel(\"Generations\")\n",
    "    plt.ylabel(\"Fitness\")\n",
    "    plt.show()\n",
    "    plt.plot(gain_averages, 'r', label=\"gainmean\")\n",
    "    plt.plot(gain_max, 'r--', label=\"gainmax\")\n",
    "    plt.title(\"Neat Gain Results\")\n",
    "    plt.xlabel(\"Generations\")\n",
    "    plt.ylabel(\"Gain\")\n",
    "    plt.show()"
   ],
   "metadata": {
    "collapsed": false,
    "pycharm": {
     "name": "#%%\n"
    }
   }
  },
  {
   "cell_type": "code",
   "execution_count": null,
   "outputs": [],
   "source": [
    "draw_graph_for_run()"
   ],
   "metadata": {
    "collapsed": false,
    "pycharm": {
     "name": "#%%\n",
     "is_executing": true
    }
   }
  },
  {
   "cell_type": "code",
   "execution_count": 20,
   "outputs": [],
   "source": [],
   "metadata": {
    "collapsed": false,
    "pycharm": {
     "name": "#%%\n"
    }
   }
  }
 ],
 "metadata": {
  "kernelspec": {
   "display_name": "Python 3",
   "language": "python",
   "name": "python3"
  },
  "language_info": {
   "codemirror_mode": {
    "name": "ipython",
    "version": 2
   },
   "file_extension": ".py",
   "mimetype": "text/x-python",
   "name": "python",
   "nbconvert_exporter": "python",
   "pygments_lexer": "ipython2",
   "version": "2.7.6"
  }
 },
 "nbformat": 4,
 "nbformat_minor": 0
}