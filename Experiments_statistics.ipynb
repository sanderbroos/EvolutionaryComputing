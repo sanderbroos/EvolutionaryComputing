{
 "cells": [
  {
   "cell_type": "code",
   "execution_count": 1,
   "metadata": {},
   "outputs": [],
   "source": [
    "import pickle\n",
    "from deap import tools\n",
    "import numpy as np\n",
    "import matplotlib.pyplot as plt\n",
    "import seaborn as sns"
   ]
  },
  {
   "cell_type": "code",
   "execution_count": 15,
   "metadata": {},
   "outputs": [],
   "source": [
    "enemy_id = 1\n",
    "\n",
    "with open(f'logBook/best_{enemy_id}_SEA_logBook.pkl', 'rb') as f:\n",
    "    logBook = pickle.load(f)"
   ]
  },
  {
   "cell_type": "code",
   "execution_count": 16,
   "metadata": {},
   "outputs": [
    {
     "data": {
      "text/plain": [
       "[{'gen': 0,\n",
       "  'nevals': 50,\n",
       "  'mean': -2.0146516750468586,\n",
       "  'std': 12.650259335024524,\n",
       "  'max': (57.22544845445559,)},\n",
       " {'gen': 1,\n",
       "  'nevals': 25,\n",
       "  'mean': 3.6341594201137353,\n",
       "  'std': 17.613982162725414,\n",
       "  'max': (57.22544845445559,)},\n",
       " {'gen': 2,\n",
       "  'nevals': 34,\n",
       "  'mean': 12.985415828112359,\n",
       "  'std': 23.065293183073024,\n",
       "  'max': (57.22544845445559,)},\n",
       " {'gen': 3,\n",
       "  'nevals': 27,\n",
       "  'mean': 24.727652077932934,\n",
       "  'std': 25.837424186272955,\n",
       "  'max': (57.26020708782077,)},\n",
       " {'gen': 4,\n",
       "  'nevals': 29,\n",
       "  'mean': 38.59676067359301,\n",
       "  'std': 24.850976754094354,\n",
       "  'max': (66.22544845445559,)},\n",
       " {'gen': 5,\n",
       "  'nevals': 33,\n",
       "  'mean': 41.949478617146724,\n",
       "  'std': 25.01835281635727,\n",
       "  'max': (66.22544845445559,)},\n",
       " {'gen': 6,\n",
       "  'nevals': 28,\n",
       "  'mean': 41.21709332355894,\n",
       "  'std': 27.56185963037103,\n",
       "  'max': (66.22544845445559,)},\n",
       " {'gen': 7,\n",
       "  'nevals': 34,\n",
       "  'mean': 45.047419266987006,\n",
       "  'std': 25.106834767790446,\n",
       "  'max': (66.22544845445559,)},\n",
       " {'gen': 8,\n",
       "  'nevals': 35,\n",
       "  'mean': 55.66803255565572,\n",
       "  'std': 17.660187939607653,\n",
       "  'max': (75.16226955283406,)},\n",
       " {'gen': 9,\n",
       "  'nevals': 27,\n",
       "  'mean': 53.10849477538328,\n",
       "  'std': 23.405003216861484,\n",
       "  'max': (75.16226955283406,)},\n",
       " {'gen': 10,\n",
       "  'nevals': 32,\n",
       "  'mean': 52.72278936318176,\n",
       "  'std': 24.72608972689912,\n",
       "  'max': (75.16226955283406,)},\n",
       " {'gen': 11,\n",
       "  'nevals': 29,\n",
       "  'mean': 49.51491336744047,\n",
       "  'std': 26.91503806002408,\n",
       "  'max': (75.16226955283406,)},\n",
       " {'gen': 12,\n",
       "  'nevals': 31,\n",
       "  'mean': 54.332462467588265,\n",
       "  'std': 25.26859147368479,\n",
       "  'max': (75.16226955283406,)},\n",
       " {'gen': 13,\n",
       "  'nevals': 38,\n",
       "  'mean': 50.39476615273243,\n",
       "  'std': 27.5166573960679,\n",
       "  'max': (75.74772657195336,)},\n",
       " {'gen': 14,\n",
       "  'nevals': 25,\n",
       "  'mean': 55.03740132686673,\n",
       "  'std': 26.480791636947608,\n",
       "  'max': (75.74772657195336,)},\n",
       " {'gen': 15,\n",
       "  'nevals': 27,\n",
       "  'mean': 58.771764190190545,\n",
       "  'std': 28.61739256141411,\n",
       "  'max': (75.74772657195336,)},\n",
       " {'gen': 16,\n",
       "  'nevals': 34,\n",
       "  'mean': 56.754318568718055,\n",
       "  'std': 25.280614515846416,\n",
       "  'max': (75.74772657195336,)},\n",
       " {'gen': 17,\n",
       "  'nevals': 35,\n",
       "  'mean': 52.35163604338393,\n",
       "  'std': 30.632585270484835,\n",
       "  'max': (75.74772657195336,)},\n",
       " {'gen': 18,\n",
       "  'nevals': 30,\n",
       "  'mean': 55.594645650191794,\n",
       "  'std': 27.263665656673766,\n",
       "  'max': (75.74772657195336,)},\n",
       " {'gen': 19,\n",
       "  'nevals': 26,\n",
       "  'mean': 60.660370666760066,\n",
       "  'std': 23.53535153578559,\n",
       "  'max': (75.74772657195336,)},\n",
       " {'gen': 20,\n",
       "  'nevals': 27,\n",
       "  'mean': 57.44296057132484,\n",
       "  'std': 25.349311839658068,\n",
       "  'max': (75.74772657195336,)}]"
      ]
     },
     "execution_count": 16,
     "metadata": {},
     "output_type": "execute_result"
    }
   ],
   "source": [
    "logBook"
   ]
  },
  {
   "cell_type": "code",
   "execution_count": 17,
   "metadata": {},
   "outputs": [
    {
     "data": {
      "text/plain": [
       "[(57.22544845445559,),\n",
       " (57.22544845445559,),\n",
       " (57.22544845445559,),\n",
       " (57.26020708782077,),\n",
       " (66.22544845445559,),\n",
       " (66.22544845445559,),\n",
       " (66.22544845445559,),\n",
       " (66.22544845445559,),\n",
       " (75.16226955283406,),\n",
       " (75.16226955283406,),\n",
       " (75.16226955283406,),\n",
       " (75.16226955283406,),\n",
       " (75.16226955283406,),\n",
       " (75.74772657195336,),\n",
       " (75.74772657195336,),\n",
       " (75.74772657195336,),\n",
       " (75.74772657195336,),\n",
       " (75.74772657195336,),\n",
       " (75.74772657195336,),\n",
       " (75.74772657195336,),\n",
       " (75.74772657195336,)]"
      ]
     },
     "execution_count": 17,
     "metadata": {},
     "output_type": "execute_result"
    }
   ],
   "source": [
    "logBook.select('max')"
   ]
  },
  {
   "cell_type": "code",
   "execution_count": null,
   "metadata": {},
   "outputs": [],
   "source": []
  }
 ],
 "metadata": {
  "kernelspec": {
   "display_name": "Python 3.9.7 64-bit",
   "language": "python",
   "name": "python3"
  },
  "language_info": {
   "codemirror_mode": {
    "name": "ipython",
    "version": 3
   },
   "file_extension": ".py",
   "mimetype": "text/x-python",
   "name": "python",
   "nbconvert_exporter": "python",
   "pygments_lexer": "ipython3",
   "version": "3.9.7"
  },
  "orig_nbformat": 4,
  "vscode": {
   "interpreter": {
    "hash": "61d78b88c669c087ea84009c87f435080b66ea52ffb4eac29e2a7f2a91dfed40"
   }
  }
 },
 "nbformat": 4,
 "nbformat_minor": 2
}
